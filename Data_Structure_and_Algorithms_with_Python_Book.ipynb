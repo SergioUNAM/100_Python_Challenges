{
  "nbformat": 4,
  "nbformat_minor": 0,
  "metadata": {
    "colab": {
      "provenance": [],
      "toc_visible": true,
      "mount_file_id": "1wEG0u0ve-kWSdDmxoF15P0OAHlqRt0Yc",
      "authorship_tag": "ABX9TyPDIFKTy4b35HtS7EuVV4zw",
      "include_colab_link": true
    },
    "kernelspec": {
      "name": "python3",
      "display_name": "Python 3"
    },
    "language_info": {
      "name": "python"
    }
  },
  "cells": [
    {
      "cell_type": "markdown",
      "metadata": {
        "id": "view-in-github",
        "colab_type": "text"
      },
      "source": [
        "<a href=\"https://colab.research.google.com/github/SergioUNAM/100_Python_Challenges/blob/master/Data_Structure_and_Algorithms_with_Python_Book.ipynb\" target=\"_parent\"><img src=\"https://colab.research.google.com/assets/colab-badge.svg\" alt=\"Open In Colab\"/></a>"
      ]
    },
    {
      "cell_type": "markdown",
      "source": [],
      "metadata": {
        "id": "CCCKV7t1CQU6"
      }
    },
    {
      "cell_type": "markdown",
      "source": [
        "# Data Structures and Algorithms with Python\n",
        "\n",
        "## 1.2 Creating objects\n",
        "\n",
        "Python is an object-oriented language. All data items in Python are objects In Python data items that be thought of as similar are named by a type or class. The term *type* and *class* Python are synonymous: they are two names for the same thing. So when you read about *types* in Python you can think of *classes* or viceversa.\n",
        "\n",
        "There are several built-in types of data in Python including, *int, float, str, list* and *dict* which is short for dictionary. These types of data and their associated operations are included in appendices at the end of the text so you have a quick reference if you need to refer to it while programming. You can also get help for any type by typing ```help(typename)``` in the Python shell, where typename is a type or class in Python. A very good language reference can be found at http://python.org/doc, th official Python documentation website.\n",
        "\n",
        "### Literal values\n",
        "\n",
        "There are two ways to create objects in Python. In a few cases, you can use a literal value to create an object. Literal values are used when we want to set some variable to a specific value within our program. For example, the literal 6 denotes any object with the integer value of 6.\n",
        "\n",
        "```x=6```\n",
        "\n",
        "This creates an *int* object containing the value 6. It also points the reference called x at this object. All assigments in Python point references at objects. Any time you see an assigment statement, you should remember that the thing on the left side of the equals sign is a reference and the thing on the right side is either another reference or a newly created object. In this case, writting ```x=6``` make a new object and the points x at this object.\n",
        "\n",
        "Other literal values may be written in Python as well. Here are some literal values that are possible in Python.\n",
        "\n",
        "- *int* literals: 6, 3, 10, -2, etc.\n",
        "- *float* literals: 6.0, -3.2, 4.5E10\n",
        "- *str* literals: 'hi there', \"how are you\"\n",
        "- *list* literals: [], [6, 'hi there']\n",
        "- *dict* literals: {}, {'hi there': 6, 'how are you': 4}\n",
        "\n",
        "Python lets your specify float literals with an exponent.\n",
        "\n",
        "So, 4.5E10 represents the float 45000000000.0. Any number written with a decimal point is a float, whether there is a 0 or some other value after the decimal point. If you write a number using the E or exponent notation, it is a float as well, Any number without a decimal point is an int, unless it is written in E notation. Strings literalas are surrounded by either single or double quotes. List literals are surrounded by [and]. The [] literal represents the empty list, The {} literal is an empty dictionary.\n",
        "\n",
        "You may not have previously used dictionaries. A dictionary is a mapping of keys to values. In the dictionary literal, the key 'hi there' is mapped to the value 6, the key 'how are you' is mapped to 4.\n",
        "\n",
        "### 1.2.2 Non-literal Object Creation\n",
        "\n",
        "Most of the time, when an object is created, it is not created from a literal value. Of course, we need literal values in programming laguages, but most of the time we have an object already and want to create another object by using one or more existing objects. For instance, if there is a string like '6' and want to create an int object from that string, you write code like that:\n",
        "\n",
        "\n",
        "```python\n",
        "y = '6'\n",
        "x = int(y)\n",
        "print(x)\n",
        "```\n",
        "\n",
        "In this short piece of code, *y* is a reference to the *str* object created from the string literal. The variable *x* is a reference to an object that is created by using the object that *y* refers to. In general, when we want to create an object based on other object values we write the following:\n",
        "\n",
        "```python\n",
        "variable = type(other_object_values)\n",
        "```\n",
        "\n",
        "The *type* is any type or class name in Python, like *int, float, str* or any other type. *The other_object_values* is a comma-separated sequence of references to other objects that are needed by the class or type to create an instance (i.e an object) of that type.\n",
        "\n",
        "```python\n",
        "z = float('6.3')\n",
        "w = str(z)\n",
        "u = list(w) # this results in the list ['6','.','3']\n",
        "```\n",
        "\n",
        "## Calling Methods on Objects\n",
        "\n",
        "Objects are useful because they allow us to collect related information and group them with behavior that act on this data. These behaviors are called *methods* in Python. There are two kinds of methods in any object-oriented laguage: *mutator* and *accessor* methods. Accessor methods access the current state of an object bu don´t change the object. Accessor methods return new object references when called.\n",
        "\n",
        "```python\n",
        "x = 'how are you'\n",
        "y = x.upper()\n",
        "print(y) # This prints 'HOW ARE YOU' to the screen\n",
        "```\n",
        "\n",
        "In the previous example the method *upper* is  called on the object that *x* refers to. The *upper* accessor method returns a new object, a *str* object, that is an upper-cased version of the original string. Note that *x* is no changed by calling the *upper* method on it. the upper method is an accessor method. There are many accessor methods available on the *str* type.\n",
        "\n",
        "```python\n",
        "myList = [1, 2, 3]\n",
        "myList.reverse()\n",
        "print(myList) # This prints [3, 2, 1] to the screen\n",
        "```\n",
        "\n",
        "Some methods are mutator methods, where an existing object is changed. The *reverse* method mutates the existing object. in this case the list that *myList* refers to. Once called, a mutator method can't be undone. The change or mutation is permanet until mutated again by some other mutator method.\n",
        "\n",
        "All classes contain accesor methods. Without accesor methods, the class would be pretty uninteresting. We use accesor methods to retrieve a value that is stored in an object or to retrieve a value that depends on the value stored in an object. If a class had no accessor methods could put values in the object bu we could never retrieve them.\n",
        "\n",
        "Some classes have mutator methods and some don't. For instance, the *list* class has mutator methods, including the *reverse* method. There are some classes that don't have any mutator methods. For instance, the *str* class does not have any mutator methods. When can form new values from the data in an *inmutable* class, but once an inmutable object is created, it cannot be changed. Other inmutable classes include *int* float.\n",
        "\n",
        "## Implementing a Class\n",
        "\n",
        "Programming in an object-oriented language usually means implementing classes that describe objects which hold information that is needed by the program you are writing. Objects contain data and methods operate on that data. A class is the definition of the *data and methods for a specific type of object.\n",
        "\n",
        "Every class contains one special method called a constructor. The constructor's job is to create an instance of an object by placing references to data within the object itself. For example, consider a class called Dog. A dog has a name, a birthday, and a sound it makes when it barks. When we create a Dog object, we write code like that following.\n",
        "\n",
        "```python\n",
        "boyDog = Dog(\"Mesa\", 5.15, 2004, \"WOOF\")\n",
        "girlDog = Dog(\"Sequoia\", 5.6, 2004, \"barkbark\")\n",
        "print(boyDog.speak())\n",
        "print(girlDog.speak())\n",
        "print(boyDog.birthDate())\n",
        "print(girlDog.birthDate())\n",
        "boyDog.changeBark(\"woofywoofy\")\n",
        "print(boyDog.speak())\n",
        "```\n",
        "\n",
        "Each object is referenced by the variable reference assigned to it, either *girlDog* or *boyDog* in this case. The objects themselves are a collection of references that point to the information that is stored in the object. Each object has name, month, day, year, and speakText references that point to the associated data that make up a Dog object.\n",
        "\n",
        "To be able to create *Dog* objects like these two objects we need a Dog class to define these objects. In addition, we'll need to define *speak*, *birthDate*, and *changeBark* methods. We can do this by writing a class as show below. Comments about each part of the class appear in the code. The special variable self always points at the current object and must be the first parameter to each method in the class. Python takes care of passing the self argument to the methods. The oter arguments are passed by the programmer when the method is called."
      ],
      "metadata": {
        "id": "LW1vuLmE66Eo"
      }
    },
    {
      "cell_type": "code",
      "source": [
        "class Dog:\n",
        "  # This is the constructor for the class. It is called whenever a Dog\n",
        "  # object is created. The reference called \"self\" is created by Python\n",
        "  # and made to point to the space for the newly created object. Python\n",
        "  # does this automatically for us but we have to have \"self\" as the first\n",
        "  # parameter to the __init__ method (i.e the constructor).\n",
        "\n",
        "  def __init__(self, name, month, day, year, speakText):\n",
        "    self.name = name\n",
        "    self.month = month\n",
        "    self.day = day\n",
        "    self.year = year\n",
        "    self.speakText = speakText\n",
        "\n",
        "  # This is an accesor method that returns the speakText stored in the\n",
        "  # object. notice that \"self\" is a parameter. Every method has \"self\" as its\n",
        "  # first parameter. The \"self\" parameter is a reference to the current\n",
        "  # object. The current object appears on the left hand side of the dot (i.e.\n",
        "  # the .) whe the method is called.\n",
        "\n",
        "  def speak(self):\n",
        "    return self.speakText\n",
        "\n",
        "  # Here is an accessor method to get the name\n",
        "  def getName(self):\n",
        "    return self.name\n",
        "\n",
        "  # This is another accessor method that uses the birthday information to\n",
        "  # return a string representing the date\n",
        "\n",
        "  def birthDate(self):\n",
        "    return str(self.month) + \"/\" + str(self.day) + \"/\" + str(self.year)\n",
        "\n",
        "  # This is a mutator method that changes the speakText of the Dog object.\n",
        "\n",
        "  def changeBark(self, bark):\n",
        "    self.speakText = bark"
      ],
      "metadata": {
        "id": "fhHXuYyVX4e7"
      },
      "execution_count": 2,
      "outputs": []
    },
    {
      "cell_type": "markdown",
      "source": [
        "## 1.5 Operator Overloading\n",
        "\n",
        "Python provides operator overloading, wich is nice feature of programming laguages because it makes it possible for the programmer to interact with object in a very natural way. Operator overloading is ready implemented for a variety of the built-in classes or types in Python. For instance, integers (i.e the *int* type) under stand how they can be added together to form a new integer object. Addition is implemented by a special method in Python called the *\\__add\\__* method. When two integers are added together, this method is called to create a new integer object. The methods are begin and end with two underscores are methods that Python associates with a corresponding operator.\n",
        "\n",
        "When we say that Python supports operator overloading we mean that if you define a method for your class with a name that is operator overloaded, your class will support that operator as well. Python figurres out out which method to call based on the types of the operands involved. For instance, writing x+y calls the int class *__add*__ method when x is an integer, bu it calls the float type's *__add*__ method when x is a float. This because in the case of the *__add*__ method, the object on the left hand side of the + operator corresponds to the object on the left hand side of the dot in the equivalent method call ```x.__add__(y)```. The object on the left side of the determinates which add method is called. The operator + is overloaded.\n",
        "\n",
        "If we wanted to define addition for our *Dog* class, we would include and *__add*__ method in the class definition. It might be natural to write *boyDog*+*girlDog* to create a new puppy object. If we wished tod do that we would extend our *Dog* class as follow:\n"
      ],
      "metadata": {
        "id": "FQoxhrq1xeOD"
      }
    },
    {
      "cell_type": "code",
      "source": [
        "class Dog:\n",
        "  # This is the constructor for the class. It is called whenever a Dog\n",
        "  # object is created. The reference called \"self\" is created by Python\n",
        "  # and made to point to the space for the newly created object. Python\n",
        "  # does this automatically for us but we have to have \"self\" as the first\n",
        "  # parameter to the __init__ method (i.e the constructor).\n",
        "\n",
        "  def __init__(self, name, month, day, year, speakText):\n",
        "    self.name = name\n",
        "    self.month = month\n",
        "    self.day = day\n",
        "    self.year = year\n",
        "    self.speakText = speakText\n",
        "\n",
        "  # This is an accesor method that returns the speakText stored in the\n",
        "  # object. notice that \"self\" is a parameter. Every method has \"self\" as its\n",
        "  # first parameter. The \"self\" parameter is a reference to the current\n",
        "  # object. The current object appears on the left hand side of the dot (i.e.\n",
        "  # the .) whe the method is called.\n",
        "\n",
        "  def speak(self):\n",
        "    return self.speakText\n",
        "\n",
        "  # Here is an accessor method to get the name\n",
        "  def getName(self):\n",
        "    return self.name\n",
        "\n",
        "  # This is another accessor method that uses the birthday information to\n",
        "  # return a string representing the date\n",
        "\n",
        "  def birthDate(self):\n",
        "    return str(self.month) + \"/\" + str(self.day) + \"/\" + str(self.year)\n",
        "\n",
        "  # This is a mutator method that changes the speakText of the Dog object.\n",
        "\n",
        "  def changeBark(self, bark):\n",
        "    self.speakText = bark\n",
        "\n",
        "  def __add__(self, otherDog):\n",
        "    return Dog(\"Puppy of \" + self.name + \" and \" + otherDog.name, \\\n",
        "               self.month, self.day, self.year + 1, \\\n",
        "               self.speakText + otherDog.speakText)\n",
        "\n",
        "def main():\n",
        "\n",
        "  boyDog = Dog(\"Mesa\", 5, 15, 2004, \"WOOOF\")\n",
        "  girlDog = Dog(\"Sequoia\", 5, 6, 2004, \"barkbark\")\n",
        "  print(boyDog.speak())\n",
        "  print(girlDog.speak())\n",
        "  print(boyDog.birthDate())\n",
        "  print(girlDog.birthDate())\n",
        "  boyDog.changeBark(\"wofywoofy\")\n",
        "  print(boyDog.speak())\n",
        "  puppy = boyDog + girlDog\n",
        "  print(puppy.speak())\n",
        "  print(puppy.getName())\n",
        "  print(puppy.birthDate())\n",
        "\n",
        "\n",
        "\n",
        "if __name__ == \"__main__\":\n",
        "  main()"
      ],
      "metadata": {
        "colab": {
          "base_uri": "https://localhost:8080/"
        },
        "id": "U2IY19ji8YvJ",
        "outputId": "f53d6b19-0714-4c9e-88cd-76cf6a327d38"
      },
      "execution_count": 3,
      "outputs": [
        {
          "output_type": "stream",
          "name": "stdout",
          "text": [
            "WOOOF\n",
            "barkbark\n",
            "5/15/2004\n",
            "5/6/2004\n",
            "wofywoofy\n",
            "wofywoofybarkbark\n",
            "Puppy of Mesa and Sequoia\n",
            "5/15/2005\n"
          ]
        }
      ]
    },
    {
      "cell_type": "markdown",
      "source": [
        "This text uses operator overloading fairly extensively. There are many operators that are defined in Python. Python programmers often call these operator *Magic Methods* because a method automatically gets called when an operator is used in an expression. For each operator the magic method is given, how to call the operator is given, and a short description of it as well.\n",
        "\n",
        "The *repr(x)* and the *str(x)* operators deserve a little more explanation. Both operators return a string representation of x. The difference is that the str operator should return a string that is suitable for human interaction while the repr operator is called when a string representation is needed that can be evaluated. For instance, if we wanted to define these two operatos on the *Dog* class, the repr method would return the string ```\"Dog('Mesa', 5, 15, 2004, 'WOOF')\"``` while the str operator might return just the dog's name, The repr operator, when called, will treat the string as an expression that could later be evaluated by the *eval* function in Python whereas the *str* operator simply returns a string for an object."
      ],
      "metadata": {
        "id": "v47LamTwX46d"
      }
    },
    {
      "cell_type": "markdown",
      "source": [
        "## 1.6 Importing Modules\n",
        "\n",
        "In Python. programs can be broken up into modules. Typically, when you write a program in Python you are going to use code that someone else wrote. Code that others wrote is usually provided in a module. to use a module, you import it. There are two ways to import a module. For the drawing program we are developing in. this chapter, we want to use turtle graphics. Turtle graphics was first developed a long time ago for a programming language called Logo. Logo was created around 1967 so the basis for turtle graphics is pretty anciente in terms of Compuyter Science. It still remains a useful way of thinking about Computer Graphics. The idea is that a turtle is wandering a beach and as it walks around it drags its tail in the sand leaving a trail behind it.\n",
        "\n",
        "There are two ways to import a module in Python: the *convenient* way and the *safe* way. Wich way you choose to import code may be a persona preference. but there are some implications about using the *convenient* method of importing code. The convenient way to import the turtle module would be to write the following:\n",
        "\n",
        "```python\n",
        "from turtle import *\n",
        "t = Turtle()\n",
        "```\n",
        "\n",
        "This is convenient because whenever you want to use the *Turtle* class, you can just write *Turtle* wich is convenient, but no completely safe because you then have to make sure you never use the identifier *Turtle* for anything else in your code. In fact, there may be other identifiers that the turtle module defines that you are unaware of that would also be indentifiers you should not use in your code. The safe way to import the turtle module would be as follows.\n",
        "\n",
        "```python\n",
        "import turtle\n",
        "t = turtle.Turtle()\n",
        "```\n",
        "While this is not quite as *convenient*, because you must precede *Turtle* with \"*turtle*\", it is safe because the *namespace* of your module and the turtle module are kept separate. All identifiers in the turtle module module are in the *turtle namespace*, while the local identifiers are in the *local namespace*. This idea of *namespaces* is an important feature of most programming laguages. It helps programmers keep from stepping on each others'toes.\n"
      ],
      "metadata": {
        "id": "ZW9AnMoKLsO-"
      }
    },
    {
      "cell_type": "markdown",
      "source": [
        "## 1.7 Indentation in Python Programs\n",
        "\n",
        "Indentation plays an important role in Python programs. An idented line belongs to the line it is indented under. The *body* of a function is indented under its function definition line. The *then* part of an *if* statement is indented under the *if*. A *while* loop's body is indented under it. The methods of a class are all indented under the class definition line. All statements that are indented the same amount and groupedtogether are called a *block*. It is important that all statements within a *block* are indented exactly the same amount. If they are not, the Python will complain about inconsistent indentatino.\n"
      ],
      "metadata": {
        "id": "4B4tnUM1qFXF"
      }
    },
    {
      "cell_type": "markdown",
      "source": [
        "## Python Program Structure\n",
        "\n",
        "Programs are typically written with many function definitions and function calls. One function definition is written by convention in Python, usually called the main function. This function contains code the programs typically executes when it is first started. The general structure of a Python program looks like follows.\n",
        "\n",
        "```python\n",
        "# Imports at the top\n",
        "import turtle\n",
        "\n",
        "# other function definitions followed by the main function definition\n",
        "def main()\n",
        "  # the main code of the program goes here\n",
        "  t = turtle.Turtle\n",
        "\n",
        "# this code calls the main function to get everything started.\n",
        "#The condition in this if statement evaluates to True when the module\n",
        "#is executed by the interpreter, but not when it is imported into\n",
        "#another module.\n",
        "if __name__ == \"__main__\":\n",
        "  main()\n",
        "```\n",
        "\n",
        "The *if* statement at the end of the previous code is the first code executed after the import statements. The *if* statement's condition evaluates to *True* when the program is run as stand-alone program. Sometimes we write modules that we may want to import into another module. Writing this *if* statement to call the main function makes the module execute its own main function when it is run as a stand-alone program. When the module is imported into another module it will not execute its main function. Later you will have the oppotunity to write a module to be imported into another module so it is a good habit to form to always call the *main* function in this way."
      ],
      "metadata": {
        "id": "xjAi0uw-rDZo"
      }
    },
    {
      "cell_type": "markdown",
      "source": [
        "## 1.9 Reading from a File\n",
        "\n",
        "To begin our drawing programm, let's assume that a picture is sotred in a file and we wish to read this file when the program is started. We'll assume that each line of the file contains a drawing command and its associated data. We'll keep it simple and stick to drawing commands that look like this in the imput file:\n",
        "\n",
        "- goto, x, y, width, color\n",
        "- circle, radius, width, color\n",
        "- beginfill, color\n",
        "- endfill\n",
        "- penup\n",
        "- pendown\n",
        "\n",
        "Each line of the file will contain a record with the needed information. We can draw a picture by providing a file with the right sequence of these commands. The file"
      ],
      "metadata": {
        "id": "3YMbwqETwkV9"
      }
    }
  ]
}